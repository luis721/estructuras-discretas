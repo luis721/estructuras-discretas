{
 "cells": [
  {
   "cell_type": "code",
   "execution_count": 1,
   "metadata": {},
   "outputs": [],
   "source": [
    "from math import factorial\n",
    "from scipy.special import comb"
   ]
  },
  {
   "cell_type": "markdown",
   "metadata": {},
   "source": [
    "## Cadenas"
   ]
  },
  {
   "cell_type": "markdown",
   "metadata": {},
   "source": [
    "Ejemplos 1 y 2"
   ]
  },
  {
   "cell_type": "code",
   "execution_count": 3,
   "metadata": {},
   "outputs": [
    {
     "name": "stdout",
     "output_type": "stream",
     "text": [
      "True\n",
      "120.0 120.0\n"
     ]
    }
   ],
   "source": [
    "# Solución directa\n",
    "fn0 = comb(6-1,4)*factorial(4)\n",
    "\n",
    "# Solución por complemento\n",
    "todas = factorial(6)\n",
    "r1 = comb(3+4-1,4)*factorial(4)\n",
    "r2 = comb(4,1)*comb(6-1,3)*factorial(3)\n",
    "fn1 = todas - r1 - r2\n",
    "print(fn1==fn0)\n",
    "\n",
    "print(fn1, fn0)"
   ]
  },
  {
   "cell_type": "markdown",
   "metadata": {},
   "source": [
    "Ejemplos 3 y 4"
   ]
  },
  {
   "cell_type": "code",
   "execution_count": 7,
   "metadata": {},
   "outputs": [
    {
     "name": "stdout",
     "output_type": "stream",
     "text": [
      "True\n",
      "240.0 240.0\n"
     ]
    }
   ],
   "source": [
    "# Solución directa\n",
    "fn0 = factorial(2)*comb(6-1,4)*factorial(4)\n",
    "\n",
    "# Solución por complemento\n",
    "todas = factorial(6)\n",
    "r1 = factorial(2)*comb(4,1)*comb(6-1, 3)*factorial(3)\n",
    "fn1 = todas - r1\n",
    "\n",
    "print(fn0==fn1)\n",
    "print(fn0, fn1)"
   ]
  },
  {
   "cell_type": "markdown",
   "metadata": {},
   "source": [
    "## Soluciones Enteras"
   ]
  },
  {
   "cell_type": "markdown",
   "metadata": {},
   "source": [
    "Ejemplo 1"
   ]
  },
  {
   "cell_type": "markdown",
   "metadata": {},
   "source": [
    "\\begin{align*}\n",
    "n(\\mathbb{A})=\\sum_{\\underset{x1,x2,x3\\geq1}{x1+x2+x3=15}}{1}\n",
    "\\end{align*}"
   ]
  },
  {
   "cell_type": "code",
   "execution_count": 8,
   "metadata": {},
   "outputs": [
    {
     "name": "stdout",
     "output_type": "stream",
     "text": [
      "True\n",
      "91 91.0\n"
     ]
    }
   ],
   "source": [
    "fn0 = 0\n",
    "for x1 in range(1, 15):\n",
    "    for x2 in range(1, 15):\n",
    "        x3 = 15 - x1 - x2\n",
    "        if (x3 >=1):\n",
    "            fn0 += 1\n",
    "\n",
    "#for x1 in range(1, 15):\n",
    "#    for x2 in range(1, 15):\n",
    "#        for x3 in range(1, 15):\n",
    "#            if x1 + x2 + x3 == 15:\n",
    "#                 fn0 += 1              \n",
    "                \n",
    "\n",
    "\n",
    "\n",
    "fn1=comb(15-1,12)\n",
    "\n",
    "print(fn0 == fn1)\n",
    "print(fn0, fn1)"
   ]
  }
 ],
 "metadata": {
  "kernelspec": {
   "display_name": "Python 3",
   "language": "python",
   "name": "python3"
  },
  "language_info": {
   "codemirror_mode": {
    "name": "ipython",
    "version": 3
   },
   "file_extension": ".py",
   "mimetype": "text/x-python",
   "name": "python",
   "nbconvert_exporter": "python",
   "pygments_lexer": "ipython3",
   "version": "3.7.3"
  }
 },
 "nbformat": 4,
 "nbformat_minor": 2
}
