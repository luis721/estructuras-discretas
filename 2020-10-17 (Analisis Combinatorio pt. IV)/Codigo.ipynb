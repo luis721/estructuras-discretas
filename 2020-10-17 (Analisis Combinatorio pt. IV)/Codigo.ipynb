{
 "cells": [
  {
   "cell_type": "markdown",
   "metadata": {},
   "source": [
    "# Universidad del Norte\n",
    "## IST 4330 - Estructuras Discretas\n",
    "### Luis Cárcamo Morales"
   ]
  },
  {
   "cell_type": "markdown",
   "metadata": {},
   "source": [
    "### Invariante"
   ]
  },
  {
   "cell_type": "markdown",
   "metadata": {},
   "source": [
    "#### Ejemplo 1"
   ]
  },
  {
   "cell_type": "markdown",
   "metadata": {},
   "source": [
    "<code>def f(n):\n",
    "  s = 0\n",
    "  k = 0\n",
    "  while k <= n:\n",
    "    s = s + k        \n",
    "    k = k + 1\n",
    "    \n",
    "  return s</code>"
   ]
  },
  {
   "cell_type": "code",
   "execution_count": 20,
   "metadata": {},
   "outputs": [],
   "source": [
    "def f(n):\n",
    "    s = 0\n",
    "    k = 0\n",
    "    while k <= n:\n",
    "        s = s + k\n",
    "        print(\"En la iteración k = %d, s = %d\" % (k ,s))\n",
    "        assert s == k*(k+1)//2 # DEBUG\n",
    "        k = k + 1\n",
    "        \n",
    "    assert s == n*(n+1)//2\n",
    "    return s"
   ]
  },
  {
   "cell_type": "code",
   "execution_count": 21,
   "metadata": {
    "scrolled": false
   },
   "outputs": [
    {
     "name": "stdout",
     "output_type": "stream",
     "text": [
      "En la iteración k = 0, s = 0\n",
      "En la iteración k = 1, s = 1\n",
      "En la iteración k = 2, s = 3\n",
      "En la iteración k = 3, s = 6\n",
      "En la iteración k = 4, s = 10\n",
      "En la iteración k = 5, s = 15\n",
      "En la iteración k = 6, s = 21\n",
      "En la iteración k = 7, s = 28\n",
      "En la iteración k = 8, s = 36\n",
      "En la iteración k = 9, s = 45\n",
      "En la iteración k = 10, s = 55\n"
     ]
    },
    {
     "data": {
      "text/plain": [
       "55"
      ]
     },
     "execution_count": 21,
     "metadata": {},
     "output_type": "execute_result"
    }
   ],
   "source": [
    "f(10)"
   ]
  },
  {
   "cell_type": "markdown",
   "metadata": {},
   "source": [
    "<table>\n",
    "    <tr>\n",
    "        <td>\n",
    "            $\\textbf{k}$\n",
    "        </td>\n",
    "        <td>\n",
    "            0\n",
    "        </td>\n",
    "        <td>\n",
    "            1\n",
    "        </td>\n",
    "        <td>\n",
    "            2\n",
    "        </td>\n",
    "        <td>\n",
    "            3\n",
    "        </td>\n",
    "        <td>\n",
    "            4\n",
    "        </td>\n",
    "        <td>\n",
    "            5\n",
    "        </td>\n",
    "        <td>\n",
    "            $\\cdots$\n",
    "        </td>\n",
    "    </tr>\n",
    "    <tr>\n",
    "        <td>\n",
    "            $\\textbf{s}$\n",
    "        </td>\n",
    "        <td>\n",
    "            0\n",
    "        </td>\n",
    "        <td>\n",
    "            1\n",
    "        </td>\n",
    "        <td>\n",
    "            3\n",
    "        </td>\n",
    "        <td>\n",
    "            6\n",
    "        </td>\n",
    "        <td>\n",
    "            10\n",
    "        </td>\n",
    "        <td>\n",
    "            15\n",
    "        </td>\n",
    "        <td>\n",
    "            $\\cdots$\n",
    "        </td>\n",
    "    </tr>\n",
    "</table>"
   ]
  },
  {
   "cell_type": "markdown",
   "metadata": {},
   "source": [
    "##### Invariante\n",
    "En la $k$-ésima iteración, el valor de $s$ es:\n",
    "\n",
    "$$s_k = \\sum_{i=0}^{k}{i} = \\cfrac{k\\cdot (k+1)}{2}$$"
   ]
  },
  {
   "cell_type": "markdown",
   "metadata": {},
   "source": [
    "##### Poscondición\n",
    "Al salir del ciclo repetitivo, el valor de $s$ es:\n",
    "\n",
    "$$s = \\sum_{0\\leq k \\leq n}{k}=\\cfrac{1}{2}\\cdot n\\cdot (n+1)$$"
   ]
  },
  {
   "cell_type": "markdown",
   "metadata": {},
   "source": [
    "### Ejemplo 2"
   ]
  },
  {
   "cell_type": "markdown",
   "metadata": {},
   "source": [
    "<code>def g(n):\n",
    "  s = 0\n",
    "  k = 1\n",
    "  while k <= n:\n",
    "    s = s * k\n",
    "    k = k + 1\n",
    "    \n",
    "  return s</code>"
   ]
  },
  {
   "cell_type": "code",
   "execution_count": 25,
   "metadata": {},
   "outputs": [],
   "source": [
    "def g(n):\n",
    "    s = 1\n",
    "    k = 1\n",
    "    while k <= n:\n",
    "        s *= k\n",
    "        k += 1\n",
    "    \n",
    "    return s"
   ]
  },
  {
   "cell_type": "code",
   "execution_count": 26,
   "metadata": {
    "scrolled": true
   },
   "outputs": [
    {
     "data": {
      "text/plain": [
       "120"
      ]
     },
     "execution_count": 26,
     "metadata": {},
     "output_type": "execute_result"
    }
   ],
   "source": [
    "g(5)"
   ]
  },
  {
   "cell_type": "markdown",
   "metadata": {},
   "source": [
    "##### Invariante\n",
    "En la $k$-ésima iteración, el valor de $s$ es:\n",
    "\n",
    "$$s_k = \\prod_{i=1}^{k}{i} = k!$$"
   ]
  },
  {
   "cell_type": "markdown",
   "metadata": {},
   "source": [
    "##### Poscondición\n",
    "Al salir del ciclo repetitivo, el valor de $s$ es:\n",
    "\n",
    "$$s = \\prod_{1\\leq k \\leq n}{k}=n!$$"
   ]
  },
  {
   "cell_type": "markdown",
   "metadata": {},
   "source": [
    "<table>\n",
    "    <tr>\n",
    "        <td>\n",
    "            $\\textbf{k}$\n",
    "        </td>\n",
    "        <td>\n",
    "            1\n",
    "        </td>\n",
    "        <td>\n",
    "            2\n",
    "        </td>\n",
    "        <td>\n",
    "            3\n",
    "        </td>\n",
    "        <td>\n",
    "            4\n",
    "        </td>\n",
    "        <td>\n",
    "            5\n",
    "        </td>\n",
    "        <td>\n",
    "            $\\cdots$\n",
    "        </td>\n",
    "    </tr>\n",
    "    <tr>\n",
    "        <td>\n",
    "            $\\textbf{s}$\n",
    "        </td>\n",
    "        <td>\n",
    "            1\n",
    "        </td>\n",
    "        <td>\n",
    "            2\n",
    "        </td>\n",
    "        <td>\n",
    "            6\n",
    "        </td>\n",
    "        <td>\n",
    "            24\n",
    "        </td>\n",
    "        <td>\n",
    "            120\n",
    "        </td>\n",
    "        <td>\n",
    "            $\\cdots$\n",
    "        </td>\n",
    "    </tr>\n",
    "</table>"
   ]
  },
  {
   "cell_type": "markdown",
   "metadata": {},
   "source": [
    "### Soluciones Enteras"
   ]
  },
  {
   "cell_type": "code",
   "execution_count": 29,
   "metadata": {},
   "outputs": [],
   "source": [
    "from scipy.special import comb"
   ]
  },
  {
   "cell_type": "markdown",
   "metadata": {},
   "source": [
    "#### Ejemplo 1"
   ]
  },
  {
   "cell_type": "markdown",
   "metadata": {},
   "source": [
    "\\begin{align*}\n",
    "x_1 + x_2 + x_3 + x_4 + x_5 + x_6&= 15\\\\\n",
    "\\textit{sujeto a:}\\quad& 0\\leq x_i \\leq 9,\\quad i=1,2,...,5\n",
    "\\end{align*}"
   ]
  },
  {
   "cell_type": "code",
   "execution_count": 28,
   "metadata": {
    "scrolled": true
   },
   "outputs": [
    {
     "name": "stdout",
     "output_type": "stream",
     "text": [
      "13992\n"
     ]
    }
   ],
   "source": [
    "s = 0\n",
    "for x1 in range(0, 10):\n",
    "    for x2 in range(0, 10):\n",
    "        for x3 in range(0, 10):\n",
    "            for x4 in range(0, 10):\n",
    "                for x5 in range(0, 10):\n",
    "                    x6 = 15 - x1 - x2 - x3 - x4 - x5\n",
    "                    if x6>=0 and x6 <=9:\n",
    "                        s += 1\n",
    "                        \n",
    "print(s)"
   ]
  },
  {
   "cell_type": "code",
   "execution_count": 32,
   "metadata": {},
   "outputs": [
    {
     "name": "stdout",
     "output_type": "stream",
     "text": [
      "13992.0\n"
     ]
    }
   ],
   "source": [
    "fn1 = comb(6+15-1,15)-comb(6,1)*comb(6+15-10-1,15-10)\n",
    "print(fn1)"
   ]
  },
  {
   "cell_type": "markdown",
   "metadata": {},
   "source": [
    "#### Ejemplo 2"
   ]
  },
  {
   "cell_type": "markdown",
   "metadata": {},
   "source": [
    "$$x1+x2+x3+x4=17.$$\n",
    "Sujeto a $$x1\\geq0,\\,x2\\geq1,\\,x3\\geq2,\\,x4\\geq3$$"
   ]
  },
  {
   "cell_type": "code",
   "execution_count": 33,
   "metadata": {},
   "outputs": [
    {
     "name": "stdout",
     "output_type": "stream",
     "text": [
      "364\n"
     ]
    }
   ],
   "source": [
    "s = 0\n",
    "for x2 in range(1, 18):\n",
    "    for x3 in range(2, 18):\n",
    "        for x4 in range(3, 18):\n",
    "            x1 = 17 - x2 - x3 - x4\n",
    "            if x1 >=0:\n",
    "                s += 1\n",
    "                \n",
    "print(s)"
   ]
  },
  {
   "cell_type": "code",
   "execution_count": 34,
   "metadata": {},
   "outputs": [
    {
     "name": "stdout",
     "output_type": "stream",
     "text": [
      "364.0\n"
     ]
    }
   ],
   "source": [
    "fn1 = comb(4+17-6-1,17-6)\n",
    "print(fn1)"
   ]
  },
  {
   "cell_type": "markdown",
   "metadata": {},
   "source": [
    "#### Ejemplo 3"
   ]
  },
  {
   "cell_type": "markdown",
   "metadata": {},
   "source": [
    "\\begin{equation*}\n",
    "x_1+x_2+x_3=15\n",
    "\\end{equation*}\n",
    "sujeto a \n",
    "\\begin{align*}\n",
    "0\\leq x_1\\leq10,\\,x_2=3,\\,x_3\\geq1\n",
    "\\end{align*}\n"
   ]
  },
  {
   "cell_type": "code",
   "execution_count": 35,
   "metadata": {
    "scrolled": true
   },
   "outputs": [
    {
     "name": "stdout",
     "output_type": "stream",
     "text": [
      "11\n"
     ]
    }
   ],
   "source": [
    "s = 0\n",
    "x2 = 3\n",
    "for x1 in range(0, 11):\n",
    "    x3 = 15-x1-x2\n",
    "    if x3 >= 1:\n",
    "        s+=1\n",
    "\n",
    "print(s)"
   ]
  },
  {
   "cell_type": "code",
   "execution_count": 39,
   "metadata": {},
   "outputs": [
    {
     "name": "stdout",
     "output_type": "stream",
     "text": [
      "11.0\n"
     ]
    }
   ],
   "source": [
    "fn2 = comb(2+11-1,11)-comb(2+0-1,0)\n",
    "print(fn2)"
   ]
  }
 ],
 "metadata": {
  "kernelspec": {
   "display_name": "Python 3",
   "language": "python",
   "name": "python3"
  },
  "language_info": {
   "codemirror_mode": {
    "name": "ipython",
    "version": 3
   },
   "file_extension": ".py",
   "mimetype": "text/x-python",
   "name": "python",
   "nbconvert_exporter": "python",
   "pygments_lexer": "ipython3",
   "version": "3.7.3"
  }
 },
 "nbformat": 4,
 "nbformat_minor": 2
}
