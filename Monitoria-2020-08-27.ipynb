{
 "cells": [
  {
   "cell_type": "markdown",
   "metadata": {},
   "source": [
    "### Universidad del Norte\n",
    "#### IST 4330 - ESTRUCTURAS DISCRETAS"
   ]
  },
  {
   "cell_type": "markdown",
   "metadata": {},
   "source": [
    "#### 27 de agosto de 2020"
   ]
  },
  {
   "cell_type": "markdown",
   "metadata": {},
   "source": [
    "##### Opciones para trabajar con Python\n",
    "<ul>\n",
    "    <li><b>Descargar Anaconda: </b></li>\n",
    "    Link: https://www.anaconda.com/products/individual\n",
    "    Este se puede usar en su propio equipo. Es software installable (y open source).\n",
    "    <li><b>Google Colab</b></li>\n",
    "    Link: https://colab.research.google.com/\n",
    "    Este es de la suit de Google, se usa en la nube. Y nos da una capacidad de almacenamiento bastante generosa.\n",
    "    <li><b>Repl.it</b></li>\n",
    "    <li><b>PyCharm</b></li>\n",
    "</ul>\n",
    "\n",
    "Ambos (Colab y Anaconda) trabajan con Jupyter, por lo que se puede usar un mismo <i>notebook</i> en ambos."
   ]
  },
  {
   "cell_type": "markdown",
   "metadata": {},
   "source": [
    "### Relaciones de Recurrencia"
   ]
  },
  {
   "cell_type": "markdown",
   "metadata": {},
   "source": [
    "Dada la secuencia\n",
    "\\begin{align*}\n",
    "&\\langle 1,\\,3,\\,7,\\,15,\\,31,\\,63,\\,127,\\dots\\rangle\\\\\n",
    "f_0=1,\\,f_1=3,\\,\\dots\n",
    "\\end{align*}\n",
    "definir algunas relaciones de recurrencia.\n",
    "\n",
    "Nos damos cuenta de que una posible fórmula es \"el doble del anterior más uno\". Es decir:\n",
    "\\begin{align*}\n",
    "f_n &= 2f_{n-1}+1,\\,n>0,\\, f_0=1.\n",
    "\\end{align*}\n",
    "\n",
    "También es posible definir otras...\n",
    "\\begin{align*}\n",
    "f_n=2f_{n-2}+f_{n-1}+2,\\,\n",
    "\\end{align*}"
   ]
  },
  {
   "cell_type": "markdown",
   "metadata": {},
   "source": [
    "<span style=\"color: blue\">1 + 3 + 7</span> + $\\underset{g_n}{\\underbrace{4}}$ = 15<br>\n",
    "<span style=\"color: blue\">3 + 7 + 15</span> + $\\underset{g_n}{\\underbrace{6}}$ = 31<br>\n",
    "<span style=\"color: blue\">7 + 15 + 31</span> + $\\underset{g_n}{\\underbrace{10}}$ = 63<br>\n",
    "<span style=\"color: blue\">15 + 31 + 63</span> + $\\underset{g_n}{\\underbrace{18}}$ = 127<br>\n",
    "<span style=\"color: blue\">31 + 63 + 127</span> + $\\underset{g_n}{\\underbrace{34}}$ = 255<br>\n",
    "\n",
    "Inicialmente, tenemos:\n",
    "$$f_n = f_{n-1} + f_{n-2} + f_{n-3} + g(n)$$\n",
    "\n",
    "En este ejemplo, vemos que $g(n)=f_{n-3}+3$, por lo tanto:\n",
    "$$f_n = f_{n-1} + f_{n-2} + 2f_{n-3} + 3,\\,\\underset{\\text{Casos base}}{\\underbrace{f_0=1,\\,f_1=3,\\,f_2=7}},\\,\\underset{\\text{Dominio}}{\\underbrace{n>2}}$$"
   ]
  },
  {
   "cell_type": "code",
   "execution_count": 6,
   "metadata": {},
   "outputs": [
    {
     "name": "stdout",
     "output_type": "stream",
     "text": [
      "1 \t 1 \t 1.\n",
      "3 \t 3 \t 3.\n",
      "7 \t 7 \t 7.\n",
      "15 \t 15 \t 15.\n",
      "31 \t 31 \t 31.\n",
      "63 \t 63 \t 63.\n",
      "127 \t 127 \t 127.\n",
      "255 \t 255 \t 255.\n",
      "511 \t 511 \t 511.\n",
      "1023 \t 1023 \t 1023.\n",
      "2047 \t 2047 \t 2047.\n",
      "4095 \t 4095 \t 4095.\n",
      "8191 \t 8191 \t 8191.\n",
      "16383 \t 16383 \t 16383.\n",
      "32767 \t 32767 \t 32767.\n"
     ]
    }
   ],
   "source": [
    "def f1(n):\n",
    "    if n==0: return 1\n",
    "    return 2*f1(n-1)+1\n",
    "\n",
    "def f2(n):\n",
    "    if n==0: return 1\n",
    "    if n==1: return 3\n",
    "    return 2*f2(n-2)+f2(n-1)+2\n",
    "\n",
    "def f3(n):\n",
    "    if n==0: return 1\n",
    "    if n==1: return 3\n",
    "    if n==2: return 7\n",
    "    return f3(n-1)+f3(n-2)+2*f3(n-3)+3\n",
    "\n",
    "for n in range(0, 15):\n",
    "    print(\"%d \\t %d \\t %d.\" % (f1(n), f2(n), f3(n)))"
   ]
  },
  {
   "cell_type": "markdown",
   "metadata": {},
   "source": [
    "Las 3 fórmulas recurrentes nos producen la misma secuencia. Sin embargo, es preferible obtener una expresión cerrada para $f_n$.\n",
    "\n",
    "<i>Ejemplos de expresiones cerradas y no cerradas</i>:\n",
    "<table>\n",
    "    <thead>\n",
    "        <tr><th>Expresión</th>\n",
    "            <th>Tipo</th></tr>\n",
    "    </thead>\n",
    "    <tbody>\n",
    "        <tr>\n",
    "            <td>$$2^n$$</td>\n",
    "            <td>Cerrada</td>\n",
    "        </tr>\n",
    "        <tr>\n",
    "            <td>$$n^2+n+1$$</td>\n",
    "            <td>Cerrada</td>\n",
    "        </tr>\n",
    "        <tr>\n",
    "            <td>$$f_n=f_{n-1}+f_{n-2},\\dots$$</td>\n",
    "            <td>No cerrada</td>\n",
    "        </tr>\n",
    "        <tr>\n",
    "            <td>$$\\sum_{i=1}^{n}{i}$$</td>\n",
    "            <td>No cerrada</td>\n",
    "        </tr>\n",
    "        <tr>\n",
    "            <td>$$\\frac{1}{2}\\cdot n\\cdot (n-1)$$</td>\n",
    "            <td>Cerrada</td>\n",
    "        </tr>\n",
    "    </tbody>\n",
    "</table>"
   ]
  },
  {
   "cell_type": "markdown",
   "metadata": {},
   "source": [
    "Las recurrentes son expresiones <b>no</b> cerradas."
   ]
  },
  {
   "cell_type": "markdown",
   "metadata": {},
   "source": [
    "Ahora procederemos a hallar una expresión <b>no</b> recurrente para $f_n$. Esto lo haremos usando la primera recurrente que hallamos.\n",
    "\n",
    "\\begin{align*}\n",
    "f_n &= 2f_{n-1}+1,\\,n>0,\\, f_0=1.\n",
    "\\end{align*}\n",
    "\n",
    "Para ejemplo usaremos el método de iteraciones."
   ]
  },
  {
   "cell_type": "markdown",
   "metadata": {},
   "source": [
    "##### Método de iteraciones"
   ]
  },
  {
   "cell_type": "markdown",
   "metadata": {},
   "source": [
    "\\begin{align}\n",
    "k = 1.\\, f_n &= 2\\cdot f_{n-1}+1\\\\\n",
    "k = 2.\\, f_n &= 2\\cdot \\underset{f_{n-1}}{\\left(\\underbrace{2\\cdot f_{n-2}+1}\\right)} +1\\\\\n",
    "&=2^2\\cdot f_{n-2}+2^1+2^0\\\\\n",
    "k = 3.\\, f_n &= 2^2\\cdot \\underset{f_{n-2}}{\\left(\\underbrace{2\\cdot f_{n-3}+1}\\right)} +2^1+2^0\\\\\n",
    "&=2^3\\cdot f_{n-3}+2^2+2^1+2^0\n",
    "\\end{align}\n",
    "\n",
    "Definimos entonces la <i>ecuación paramétrica</i>:\n",
    "\n",
    "\\begin{align}\n",
    "f(n,k)&=2^k\\cdot f_{n-k}+2^{k-1}+\\cdots+2^1+2^0\n",
    "\\end{align}\n",
    "\n"
   ]
  },
  {
   "cell_type": "markdown",
   "metadata": {},
   "source": [
    "Recordemos la <b>serie geométrica:</b>\n",
    "\\begin{align}\n",
    "g(n, r, a) = \\sum_{i=0}^{n-1}{a\\cdot r^i}=a\\cdot\\cfrac{1-r^n}{1-r}\n",
    "\\end{align}\n",
    "Por ejemplo\n",
    "$$4\\cdot 3^0 + 4\\cdot 3^1 + 4\\cdot 3^2 + \\cdots + 4\\cdot 3^9=\\sum_{i=0}^{n}{a\\cdot r^i}=$$\n",
    "\n",
    "<i>Nota</i>: El último expontente es $n-1$.<br>\n",
    "En este ejemplo $a=4$, $r=3$, $n=10$.\n",
    "$$4\\cdot 3^0 + 4\\cdot 3^1 + 4\\cdot 3^2 + \\cdots + 4\\cdot 3^9=\\sum_{i=0}^{n}{4\\cdot 3^i}=4\\cdot \\cfrac{1-3^n}{1-3}=4\\cdot\\cfrac{3^n-1}{2}=2\\cdot3^n-2.$$"
   ]
  },
  {
   "cell_type": "code",
   "execution_count": 15,
   "metadata": {},
   "outputs": [
    {
     "name": "stdout",
     "output_type": "stream",
     "text": [
      "Expresión no cerrada: 118096, Expresión cerrada: 118096.\n"
     ]
    }
   ],
   "source": [
    "def geom(n, a, r):\n",
    "    # Expresión no cerrada (sumatori)\n",
    "    sumatoria = 0\n",
    "    i = 0\n",
    "    while i < n:\n",
    "        sumatoria += a*r**i\n",
    "        i += 1\n",
    "        \n",
    "    # Expresión cerrada\n",
    "    g = a*(1-r**n)//(1-r)    \n",
    "    \n",
    "    return sumatoria, g\n",
    "\n",
    "v1, v2 = geom(10, 4, 3)\n",
    "print(\"Expresión no cerrada: %d, Expresión cerrada: %d.\" % (v1, v2))"
   ]
  },
  {
   "cell_type": "markdown",
   "metadata": {},
   "source": [
    "Continuamos con nuestro ejemplo.\n",
    "\n",
    "Recordemos que estábamos en la paramétrica de $f_n$, hallada luego de aplicar el método de iteraciones.\n",
    "\n",
    "\\begin{align}\n",
    "f(n,k)&=2^k\\cdot f_{n-k}+2^{k-1}+\\cdots+2^1+2^0\\\\\n",
    "&=2^k\\cdot f_{n-k}+\\sum_{i=0}^{k-1}{2^i}\n",
    "\\end{align}\n",
    "\n",
    "Para <i>remover</i> el parámetro $k$ usamos el (los) caso(s) base.\n",
    "\n",
    "A partir del caso base: $n-k=0\\implies n=k$ y por tanto:\n",
    "$f_{n-k}=f_{n-n}=f_{0}=1$.\n",
    "\n",
    "Reemplazando esto en la paramétrica tenemos:\n",
    "\\begin{align}\n",
    "f_n&=2^n\\cdot f_{0} + \\sum_{i=0}^{n-1}{2^i}\\\\\n",
    "&=2^n\\cdot1 + \\sum_{i=0}^{n-1}{2^i}\\\\\n",
    "&=2^n + \\sum_{i=0}^{n-1}{2^i}\\\\\n",
    "\\end{align}\n",
    "\n",
    "Ahora, evaluamos esta sumatoria utilizando la fórmula de la serie geométrica. En este caso, la utilizamos porque esta tiene la forma de ser una serie geométrica.\n",
    "\n",
    "\\begin{align}\n",
    "g(n, r, a) &= \\sum_{i=0}^{n-1}{a\\cdot r^i}=a\\cdot\\cfrac{1-r^n}{1-r}\n",
    "\\end{align}\n",
    "\n",
    "Para nuestro ejemplo, $r=2$, $a=1$. Entonces:\n",
    "\\begin{align}\n",
    "f_n&=2^n + \\underset{g(n,\\,r=2,\\,a=1)}{\\underbrace{\\sum_{i=0}^{n-1}{2^i}}}\\\\\n",
    "&=2^n+\\underset{g(n,\\,r=2,\\,a=1)}{\\underbrace{\\cfrac{1-2^n}{1-2}}}=2^n+\\cfrac{2^n-1}{1}\\\\\n",
    "&=2^n+2^n-1=2^{n+1}-1.\n",
    "\\end{align}\n",
    "\n",
    "Entonces, finalmente:\n",
    "$f_n=2^{n+1}-1$.\n",
    "\n",
    "<i>Nota: </i>\n",
    "$2^n+2^n=2\\cdot 2^n=2^{n+1}.$"
   ]
  },
  {
   "cell_type": "code",
   "execution_count": 17,
   "metadata": {
    "scrolled": true
   },
   "outputs": [
    {
     "name": "stdout",
     "output_type": "stream",
     "text": [
      "Recurrente: 1,\t No recurrente: 1\n",
      "Recurrente: 3,\t No recurrente: 3\n",
      "Recurrente: 7,\t No recurrente: 7\n",
      "Recurrente: 15,\t No recurrente: 15\n",
      "Recurrente: 31,\t No recurrente: 31\n",
      "Recurrente: 63,\t No recurrente: 63\n",
      "Recurrente: 127,\t No recurrente: 127\n",
      "Recurrente: 255,\t No recurrente: 255\n",
      "Recurrente: 511,\t No recurrente: 511\n",
      "Recurrente: 1023,\t No recurrente: 1023\n"
     ]
    }
   ],
   "source": [
    "def recurrente(n):\n",
    "    if n==0: return 1 #f(0)=1\n",
    "    return 2*recurrente(n-1)+1 #f(n)=2f(n-1)+1\n",
    "\n",
    "def no_recurrente(n):\n",
    "    return 2**(n+1)-1\n",
    "\n",
    "for n in range(0, 10):\n",
    "    print(\"Recurrente: %d,\\t No recurrente: %d\" % (recurrente(n), no_recurrente(n)))\n",
    "    "
   ]
  },
  {
   "cell_type": "markdown",
   "metadata": {},
   "source": [
    "Como se puede observar, ambas expresiones nos dan los mismos valores para un mismo $n$. Sin embargo, se requiere de una demostración formal de esto (Inducción matemática)."
   ]
  },
  {
   "cell_type": "markdown",
   "metadata": {},
   "source": [
    "<h4>Ejercicios</h4>\n",
    "<ul>\n",
    "    <li>$f_n=3\\cdot f_{n-1}+2,\\,n>1,\\,f_1=3$</li>\n",
    "    <li>$f_n=4\\cdot f_{n-1}+5,\\,n>2,\\,f_2=0$</li>\n",
    "</ul>"
   ]
  }
 ],
 "metadata": {
  "kernelspec": {
   "display_name": "Python 3",
   "language": "python",
   "name": "python3"
  },
  "language_info": {
   "codemirror_mode": {
    "name": "ipython",
    "version": 3
   },
   "file_extension": ".py",
   "mimetype": "text/x-python",
   "name": "python",
   "nbconvert_exporter": "python",
   "pygments_lexer": "ipython3",
   "version": "3.7.3"
  }
 },
 "nbformat": 4,
 "nbformat_minor": 2
}
