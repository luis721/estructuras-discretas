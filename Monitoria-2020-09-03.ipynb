{
 "cells": [
  {
   "cell_type": "markdown",
   "metadata": {},
   "source": [
    "### Universidad del Norte\n",
    "#### IST 4330 - ESTRUCTURAS DISCRETAS"
   ]
  },
  {
   "cell_type": "markdown",
   "metadata": {},
   "source": [
    "#### 03 de septiembre de 2020"
   ]
  },
  {
   "cell_type": "markdown",
   "metadata": {},
   "source": [
    "#### Ejemplo 1"
   ]
  },
  {
   "cell_type": "code",
   "execution_count": 1,
   "metadata": {
    "scrolled": false
   },
   "outputs": [
    {
     "name": "stdout",
     "output_type": "stream",
     "text": [
      "1  vs. 1\n",
      "3  vs. 3\n",
      "5  vs. 5\n",
      "7  vs. 7\n",
      "9  vs. 9\n",
      "11  vs. 11\n",
      "13  vs. 13\n",
      "15  vs. 15\n",
      "17  vs. 17\n",
      "19  vs. 19\n"
     ]
    }
   ],
   "source": [
    "def f1(n):\n",
    "    if n==0: return 1 # caso base\n",
    "    else: return f1(n-1)+2 # llamado recursivo\n",
    "    \n",
    "def nr1(n):\n",
    "    return 2*n+1\n",
    "\n",
    "for i in range(10):\n",
    "    print(\"%s  vs. %s\" % (f1(i), nr1(i)))"
   ]
  },
  {
   "cell_type": "markdown",
   "metadata": {},
   "source": [
    "#### Ejemplo 2"
   ]
  },
  {
   "cell_type": "code",
   "execution_count": 3,
   "metadata": {
    "scrolled": true
   },
   "outputs": [
    {
     "name": "stdout",
     "output_type": "stream",
     "text": [
      "1 ==  1\n",
      "3 ==  3\n",
      "6 ==  6\n",
      "10 ==  10\n",
      "15 ==  15\n",
      "21 ==  21\n",
      "28 ==  28\n",
      "36 ==  36\n",
      "45 ==  45\n",
      "55 ==  55\n"
     ]
    }
   ],
   "source": [
    "def f2(n):\n",
    "    if n==0: return 1\n",
    "    else: return f2(n-1)+n+1\n",
    "    \n",
    "def nr2(n):\n",
    "    return ((n+1)*(n+2))//2\n",
    "\n",
    "for n in range(10):\n",
    "    print(\"%d ==  %d\" % (f2(n), nr2(n)))"
   ]
  },
  {
   "cell_type": "markdown",
   "metadata": {},
   "source": [
    "#### Ejemplo 3"
   ]
  },
  {
   "cell_type": "code",
   "execution_count": 4,
   "metadata": {},
   "outputs": [
    {
     "name": "stdout",
     "output_type": "stream",
     "text": [
      "2 ==  2\n",
      "7 ==  7\n",
      "17 ==  17\n",
      "37 ==  37\n",
      "77 ==  77\n",
      "157 ==  157\n",
      "317 ==  317\n",
      "637 ==  637\n",
      "1277 ==  1277\n",
      "2557 ==  2557\n"
     ]
    }
   ],
   "source": [
    "def f3(n):\n",
    "    if n==0: return 2\n",
    "    return 2*f3(n-1)+3\n",
    "\n",
    "def nr3(n):\n",
    "    return 5*2**n-3\n",
    "\n",
    "for n in range(10):\n",
    "    print(\"%d ==  %d\" % (f3(n), nr3(n)))"
   ]
  }
 ],
 "metadata": {
  "kernelspec": {
   "display_name": "Python 3",
   "language": "python",
   "name": "python3"
  },
  "language_info": {
   "codemirror_mode": {
    "name": "ipython",
    "version": 3
   },
   "file_extension": ".py",
   "mimetype": "text/x-python",
   "name": "python",
   "nbconvert_exporter": "python",
   "pygments_lexer": "ipython3",
   "version": "3.7.3"
  }
 },
 "nbformat": 4,
 "nbformat_minor": 2
}
