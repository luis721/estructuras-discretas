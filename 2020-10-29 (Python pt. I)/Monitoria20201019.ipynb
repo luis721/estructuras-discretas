{
  "nbformat": 4,
  "nbformat_minor": 0,
  "metadata": {
    "colab": {
      "name": "Monitoria20201019.ipynb",
      "provenance": []
    },
    "kernelspec": {
      "name": "python3",
      "display_name": "Python 3"
    }
  },
  "cells": [
    {
      "cell_type": "markdown",
      "metadata": {
        "id": "QTtpxhXg5KVM"
      },
      "source": [
        "<h1> Universidad del Norte</h1>\n",
        "<h3> IST4330 - Estructuras Discretas</h3>\n",
        "<h4> Luis Cárcamo</h4>\n",
        "<h5> 29 de octubre de 2020</h5>\n"
      ]
    },
    {
      "cell_type": "code",
      "metadata": {
        "id": "OZDSrRSl61hx",
        "outputId": "12b4aaed-9442-4716-cfa9-145cc46b76c6",
        "colab": {
          "base_uri": "https://localhost:8080/"
        }
      },
      "source": [
        "!pip install numpy"
      ],
      "execution_count": 1,
      "outputs": [
        {
          "output_type": "stream",
          "text": [
            "Requirement already satisfied: numpy in /usr/local/lib/python3.6/dist-packages (1.18.5)\n"
          ],
          "name": "stdout"
        }
      ]
    },
    {
      "cell_type": "markdown",
      "metadata": {
        "id": "m5i2Yjlr5sr-"
      },
      "source": [
        "# Introducción a Python"
      ]
    },
    {
      "cell_type": "markdown",
      "metadata": {
        "id": "jA0cqBDY5u4N"
      },
      "source": [
        "### Software para programar en Python\n",
        "\n",
        "- [Google Colaboratory](https://colab.research.google.com/)\n",
        "- [Jupyter Anaconda](https://www.anaconda.com/products/individual)\n",
        "- [PyCharm](https://www.jetbrains.com/pycharm/)\n",
        "- [Python](https://www.python.org/) + [PIP](https://pypi.org/project/pip/) + Cualquier editor (Sublime Text, Atom, VSCode, etc)"
      ]
    },
    {
      "cell_type": "markdown",
      "metadata": {
        "id": "GYN2CYQd83UD"
      },
      "source": [
        "## Variables, lectura y escritura de datos"
      ]
    },
    {
      "cell_type": "code",
      "metadata": {
        "id": "z06LdfGn4jph",
        "outputId": "a5a6af9a-e6f6-428d-c410-c1bd9b2b2f18",
        "colab": {
          "base_uri": "https://localhost:8080/"
        }
      },
      "source": [
        "print(\"Hola mundo\")"
      ],
      "execution_count": 2,
      "outputs": [
        {
          "output_type": "stream",
          "text": [
            "Hola mundo\n"
          ],
          "name": "stdout"
        }
      ]
    },
    {
      "cell_type": "markdown",
      "metadata": {
        "id": "crJoRgtq9YuN"
      },
      "source": [
        "La función *type* sirve para conocer el tipo de una variable."
      ]
    },
    {
      "cell_type": "code",
      "metadata": {
        "id": "mtHrBc1v8_oy",
        "outputId": "dc87c859-b797-4131-f04c-7f6e6de85304",
        "colab": {
          "base_uri": "https://localhost:8080/"
        }
      },
      "source": [
        "a = 5\n",
        "print(a, type(a))\n",
        "b = \"Hola\"\n",
        "print(b, type(b))\n",
        "c = 1.0\n",
        "print(c, type(c))"
      ],
      "execution_count": 6,
      "outputs": [
        {
          "output_type": "stream",
          "text": [
            "5 <class 'int'>\n",
            "Hola <class 'str'>\n",
            "1.0 <class 'float'>\n"
          ],
          "name": "stdout"
        }
      ]
    },
    {
      "cell_type": "code",
      "metadata": {
        "id": "gOjAqOTV9wxD",
        "outputId": "27e8d867-8d1b-4bd5-e3fb-fb5b90161b65",
        "colab": {
          "base_uri": "https://localhost:8080/"
        }
      },
      "source": [
        "a = input(\"Digite un valor: \") # 5\n",
        "print(type(a))\n",
        "b = input(\"Digite otro valor: \") # 7\n",
        "print(type(b))\n",
        "suma = a + b\n",
        "print(\"La suma de \", a, \" y \", b, \" es \", suma)\n",
        "#print(\"La suma de %d y %d es %d\" % (a, b, suma))\n",
        "print(type(suma))"
      ],
      "execution_count": 11,
      "outputs": [
        {
          "output_type": "stream",
          "text": [
            "Digite un valor: 5\n",
            "<class 'str'>\n",
            "Digite otro valor: 7\n",
            "<class 'str'>\n",
            "La suma de  5  y  7  es  57\n",
            "<class 'str'>\n"
          ],
          "name": "stdout"
        }
      ]
    },
    {
      "cell_type": "markdown",
      "metadata": {
        "id": "Rm2GnTgi-eeh"
      },
      "source": [
        "Dado que *a* y *b* eran cadenas, el operador *+* en Python cuando se usa sobre cadenas equivale a una concatenación."
      ]
    },
    {
      "cell_type": "code",
      "metadata": {
        "id": "NxwsveAD-mOy",
        "outputId": "d0ef922a-2b1c-488c-ff1e-1191fb199963",
        "colab": {
          "base_uri": "https://localhost:8080/"
        }
      },
      "source": [
        "a = int(input(\"Digite un valor: \")) # 5\n",
        "print(type(a))\n",
        "b = int(input(\"Digite otro valor: \")) # 7\n",
        "print(type(b))\n",
        "suma = a + b\n",
        "#print(\"La suma de \", a, \" y \", b, \" es \", suma)\n",
        "print(\"La suma de %d y %d es %d\" % (a, b, suma))\n",
        "print(type(suma))"
      ],
      "execution_count": 15,
      "outputs": [
        {
          "output_type": "stream",
          "text": [
            "Digite un valor: 5\n",
            "<class 'int'>\n",
            "Digite otro valor: 7\n",
            "<class 'int'>\n",
            "La suma de 5 y 7 es 12\n",
            "<class 'int'>\n"
          ],
          "name": "stdout"
        }
      ]
    },
    {
      "cell_type": "markdown",
      "metadata": {
        "id": "8dmwVy6u_IMt"
      },
      "source": [
        "El literal *%d* indica entero.\n"
      ]
    },
    {
      "cell_type": "markdown",
      "metadata": {
        "id": "J7yD_0UN-3Xq"
      },
      "source": [
        "El ejemplo anterior sólo funciona cuando *a* y *b* son enteros."
      ]
    },
    {
      "cell_type": "code",
      "metadata": {
        "id": "ae5Iega_-29Z",
        "outputId": "aff7a4a6-8ae6-44ba-f2ef-64c64d2c1742",
        "colab": {
          "base_uri": "https://localhost:8080/"
        }
      },
      "source": [
        "a = float(input(\"Digite un valor: \"))\n",
        "print(type(a))\n",
        "b = float(input(\"Digite otro valor: \"))\n",
        "print(type(b))\n",
        "suma = a + b\n",
        "#print(\"La suma de \", a, \" y \", b, \" es \", suma)\n",
        "print(\"La suma de %.3f y %.3f es %.3f\" % (a, b, suma))\n",
        "print(type(suma))"
      ],
      "execution_count": 20,
      "outputs": [
        {
          "output_type": "stream",
          "text": [
            "Digite un valor: 5\n",
            "<class 'float'>\n",
            "Digite otro valor: 7.1\n",
            "<class 'float'>\n",
            "La suma de 5.000 y 7.100 es 12.100\n",
            "<class 'float'>\n"
          ],
          "name": "stdout"
        }
      ]
    },
    {
      "cell_type": "markdown",
      "metadata": {
        "id": "v_xWYPF3_fS4"
      },
      "source": [
        "El literal *%f* indica valores de punto flotante («números reales»)."
      ]
    },
    {
      "cell_type": "code",
      "metadata": {
        "id": "fjHVWP6B_vKY",
        "outputId": "cb67d6ef-ce10-4229-9b55-e2ca802924ba",
        "colab": {
          "base_uri": "https://localhost:8080/"
        }
      },
      "source": [
        "nombre = input(\"Digite su nombre: \")\n",
        "print(\"Su nombre es %s\" % nombre)"
      ],
      "execution_count": 21,
      "outputs": [
        {
          "output_type": "stream",
          "text": [
            "Digite su nombre: luis\n",
            "Su nombre es luis\n"
          ],
          "name": "stdout"
        }
      ]
    },
    {
      "cell_type": "markdown",
      "metadata": {
        "id": "gQajQGg-_24i"
      },
      "source": [
        "El literal *%s* indica cadenas."
      ]
    },
    {
      "cell_type": "markdown",
      "metadata": {
        "id": "yLLO5g96AOMX"
      },
      "source": [
        "<b>Nota:</b> Las variables del entorno se mantienen y son compartidas por <b>todas</b> las celdas."
      ]
    },
    {
      "cell_type": "markdown",
      "metadata": {
        "id": "iH_Aa-V9AAPU"
      },
      "source": [
        "## Condicionales"
      ]
    },
    {
      "cell_type": "markdown",
      "metadata": {
        "id": "LyXQYdawAopR"
      },
      "source": [
        "if &lt;condición&gt;:<br>\n",
        "&nbsp;&nbsp;&nbsp;&nbsp;&lt;bloque de código&gt;<br>\n",
        "elif  &lt;condición&gt;:<br>\n",
        "&nbsp;&nbsp;&nbsp;&nbsp;&lt;bloque de código&gt; <br>\n",
        "else:<br>\n",
        "&nbsp;&nbsp;&nbsp;&nbsp;&lt;bloque de código&gt;"
      ]
    },
    {
      "cell_type": "code",
      "metadata": {
        "id": "_9dMf6BRAGTd",
        "outputId": "b1fa003f-0843-4514-9bd6-41df347ddfa6",
        "colab": {
          "base_uri": "https://localhost:8080/"
        }
      },
      "source": [
        "nota = float(input(\"Digite su nota: \"))\n",
        "if nota < 3.0:\n",
        "  print(\"Desempeño bajo\")\n",
        "else:\n",
        "  if nota < 4.0:\n",
        "    print(\"Desempeño básico\")\n",
        "    else:\n",
        "      if nota < 4.8:\n",
        "        print(\"Desempeño alto\")\n",
        "      else:\n",
        "        print(\"Desempeño excelente\")"
      ],
      "execution_count": 24,
      "outputs": [
        {
          "output_type": "stream",
          "text": [
            "Digite su nota: 4.9\n",
            "Desempeño excelente\n"
          ],
          "name": "stdout"
        }
      ]
    },
    {
      "cell_type": "code",
      "metadata": {
        "id": "pdahX_jpBg_Z",
        "outputId": "ded41da4-0883-403b-8506-f24477572b8f",
        "colab": {
          "base_uri": "https://localhost:8080/"
        }
      },
      "source": [
        "nota = float(input(\"Digite su nota: \"))\n",
        "if nota < 3.0:\n",
        "  print(\"Desempeño bajo\")\n",
        "elif nota < 4.0:\n",
        "  print(\"Desempeño básico\")\n",
        "elif nota < 4.8:\n",
        "  print(\"Desempeño alto\")\n",
        "else:\n",
        "  print(\"Desempeño excelente\")"
      ],
      "execution_count": 30,
      "outputs": [
        {
          "output_type": "stream",
          "text": [
            "Digite su nota: 4.1\n",
            "Desempeño alto\n"
          ],
          "name": "stdout"
        }
      ]
    },
    {
      "cell_type": "markdown",
      "metadata": {
        "id": "S0pPCe_bB2Lc"
      },
      "source": [
        "## Ciclos repetitivos"
      ]
    },
    {
      "cell_type": "markdown",
      "metadata": {
        "id": "S6Ij2uSiCBJd"
      },
      "source": [
        "### Mientras Que\n",
        "*while*"
      ]
    },
    {
      "cell_type": "markdown",
      "metadata": {
        "id": "B3pLhhLqCvkK"
      },
      "source": [
        "*div* -> // (División entera)"
      ]
    },
    {
      "cell_type": "code",
      "metadata": {
        "id": "ftepGt0WCz3M",
        "outputId": "4af8f564-ce46-4da2-a73b-8e46d7af0b3e",
        "colab": {
          "base_uri": "https://localhost:8080/"
        }
      },
      "source": [
        "print(25//8) # 25 div 8\n",
        "print(25/8)"
      ],
      "execution_count": 37,
      "outputs": [
        {
          "output_type": "stream",
          "text": [
            "3\n",
            "3.125\n"
          ],
          "name": "stdout"
        }
      ]
    },
    {
      "cell_type": "code",
      "metadata": {
        "id": "IctGJbE4DI6B",
        "outputId": "7535f927-a829-4ff8-a344-8489e0061971",
        "colab": {
          "base_uri": "https://localhost:8080/"
        }
      },
      "source": [
        "a = b = c = 0\n",
        "# a = 0\n",
        "# b = 0\n",
        "# c = 0\n",
        "print(a, b, c)"
      ],
      "execution_count": 39,
      "outputs": [
        {
          "output_type": "stream",
          "text": [
            "0 0 0\n"
          ],
          "name": "stdout"
        }
      ]
    },
    {
      "cell_type": "code",
      "metadata": {
        "id": "tQ2zM2ehCF6G",
        "outputId": "114b9b85-7b04-4e50-da81-071077d36b88",
        "colab": {
          "base_uri": "https://localhost:8080/"
        }
      },
      "source": [
        "numero = a = 59194\n",
        "suma = 0\n",
        "while a != 0:\n",
        "  suma = suma + a % 10\n",
        "  a = a // 10\n",
        "  print(a)\n",
        "\n",
        "print(\"La suma de los dígitos de %d es %d.\" % (numero, suma))"
      ],
      "execution_count": 38,
      "outputs": [
        {
          "output_type": "stream",
          "text": [
            "5919\n",
            "591\n",
            "59\n",
            "5\n",
            "0\n",
            "La suma de los dígitos de 59194 es 28.\n"
          ],
          "name": "stdout"
        }
      ]
    },
    {
      "cell_type": "markdown",
      "metadata": {
        "id": "GWhdkvalDehh"
      },
      "source": [
        "### Para \n",
        "*(for)*"
      ]
    },
    {
      "cell_type": "code",
      "metadata": {
        "id": "1Yne_7iMD0Jv",
        "outputId": "62ef9dca-bb22-412f-9896-b95aa496dbfa",
        "colab": {
          "base_uri": "https://localhost:8080/"
        }
      },
      "source": [
        "p = range(inicio, fin, paso)\n",
        "print(p)\n",
        "print(type(p))"
      ],
      "execution_count": 42,
      "outputs": [
        {
          "output_type": "stream",
          "text": [
            "range(0, 10)\n",
            "<class 'range'>\n"
          ],
          "name": "stdout"
        }
      ]
    },
    {
      "cell_type": "code",
      "metadata": {
        "id": "F2-f_E9EDUC5",
        "outputId": "956fbfb6-2ddb-46f0-e003-b79b6c0a0212",
        "colab": {
          "base_uri": "https://localhost:8080/"
        }
      },
      "source": [
        "#inicio = 0\n",
        "#fin = 10\n",
        "#paso = 1\n",
        "inicio, fin, paso = 0, 10, 1\n",
        "for i in range(inicio, fin, paso):\n",
        "  print(i, end=\", \")"
      ],
      "execution_count": 45,
      "outputs": [
        {
          "output_type": "stream",
          "text": [
            "0, 1, 2, 3, 4, 5, 6, 7, 8, 9, "
          ],
          "name": "stdout"
        }
      ]
    },
    {
      "cell_type": "code",
      "metadata": {
        "id": "bSQm0VinEL6_",
        "outputId": "01c3fb9f-90d5-4c25-d7c9-ffe8804f2abb",
        "colab": {
          "base_uri": "https://localhost:8080/"
        }
      },
      "source": [
        "S = \"Esta es una cadena\"\n",
        "for caracter in S:\n",
        "  print(caracter, end=\"-\")"
      ],
      "execution_count": 47,
      "outputs": [
        {
          "output_type": "stream",
          "text": [
            "E-s-t-a- -e-s- -u-n-a- -c-a-d-e-n-a-"
          ],
          "name": "stdout"
        }
      ]
    },
    {
      "cell_type": "code",
      "metadata": {
        "id": "Ugkw1nXJEivd",
        "outputId": "7ff2f89a-85f1-4a02-b7a3-2b2924d95a39",
        "colab": {
          "base_uri": "https://localhost:8080/"
        }
      },
      "source": [
        "print(\"l\" in S) # Si l está en la cadena\n",
        "print(\"c\" in S) # Si c está en la cadena"
      ],
      "execution_count": 48,
      "outputs": [
        {
          "output_type": "stream",
          "text": [
            "False\n",
            "True\n"
          ],
          "name": "stdout"
        }
      ]
    },
    {
      "cell_type": "code",
      "metadata": {
        "id": "EJHzV-JNHM1r",
        "outputId": "b051e5fa-f98f-4bf4-8e73-ee9047011e65",
        "colab": {
          "base_uri": "https://localhost:8080/"
        }
      },
      "source": [
        "print(S[-5:-1])"
      ],
      "execution_count": 67,
      "outputs": [
        {
          "output_type": "stream",
          "text": [
            "aden\n"
          ],
          "name": "stdout"
        }
      ]
    },
    {
      "cell_type": "markdown",
      "metadata": {
        "id": "OzI7k5dMFCFx"
      },
      "source": [
        "## Listas, tuplas y diccionarios"
      ]
    },
    {
      "cell_type": "markdown",
      "metadata": {
        "id": "pOmJGxykF1ce"
      },
      "source": [
        "Las listas, diccionarios y tuplas son **iterables**."
      ]
    },
    {
      "cell_type": "markdown",
      "metadata": {
        "id": "rfNfH0gsFeUE"
      },
      "source": [
        "### Listas"
      ]
    },
    {
      "cell_type": "markdown",
      "metadata": {
        "id": "qG4J5YBnGC-J"
      },
      "source": [
        "Crear una lista"
      ]
    },
    {
      "cell_type": "code",
      "metadata": {
        "id": "lM1SRICeIRni",
        "outputId": "4b314350-94c9-4a37-b12b-3b528d46ca8f",
        "colab": {
          "base_uri": "https://localhost:8080/"
        }
      },
      "source": [
        "P = list()\n",
        "print(P)\n",
        "print(type(P))"
      ],
      "execution_count": 76,
      "outputs": [
        {
          "output_type": "stream",
          "text": [
            "[]\n",
            "<class 'list'>\n"
          ],
          "name": "stdout"
        }
      ]
    },
    {
      "cell_type": "code",
      "metadata": {
        "id": "wWqeiBU2FgmE",
        "outputId": "d05fcdac-92c7-4fca-c655-ef901ee78e47",
        "colab": {
          "base_uri": "https://localhost:8080/"
        }
      },
      "source": [
        "P = [0, 1, 2, 3, 4]\n",
        "print(type(P))"
      ],
      "execution_count": 86,
      "outputs": [
        {
          "output_type": "stream",
          "text": [
            "<class 'list'>\n"
          ],
          "name": "stdout"
        }
      ]
    },
    {
      "cell_type": "code",
      "metadata": {
        "id": "MGY10jHEHUgD",
        "outputId": "7dab20aa-55bc-43e3-f09c-9007d735dbb9",
        "colab": {
          "base_uri": "https://localhost:8080/"
        }
      },
      "source": [
        "X = [x + x**2 - x**3 for x in P]\n",
        "print(X)"
      ],
      "execution_count": 72,
      "outputs": [
        {
          "output_type": "stream",
          "text": [
            "[1, 0, 1, -2, -15, -44, -287]\n"
          ],
          "name": "stdout"
        }
      ]
    },
    {
      "cell_type": "code",
      "metadata": {
        "id": "5KTMj4AGJjqj",
        "outputId": "6cbd42f4-8810-4b7d-e989-bfb71f1c6af3",
        "colab": {
          "base_uri": "https://localhost:8080/"
        }
      },
      "source": [
        "P = [0, 1, 2, 3, 4, \"S\"]\n",
        "P.append([\"a\", \"b\"])\n",
        "print(P)"
      ],
      "execution_count": 87,
      "outputs": [
        {
          "output_type": "stream",
          "text": [
            "[0, 1, 2, 3, 4, 'S', ['a', 'b']]\n"
          ],
          "name": "stdout"
        }
      ]
    },
    {
      "cell_type": "markdown",
      "metadata": {
        "id": "buh4uGcAGD-Y"
      },
      "source": [
        "Añadir elementos a una lista ya creada"
      ]
    },
    {
      "cell_type": "code",
      "metadata": {
        "id": "Rdei_G_UF7DD",
        "outputId": "44f96d44-9763-462f-e295-9a6335ce2451",
        "colab": {
          "base_uri": "https://localhost:8080/"
        }
      },
      "source": [
        "P.append(7)\n",
        "print(P)"
      ],
      "execution_count": 58,
      "outputs": [
        {
          "output_type": "stream",
          "text": [
            "[0, 1, 2, 3, 4, 7]\n"
          ],
          "name": "stdout"
        }
      ]
    },
    {
      "cell_type": "code",
      "metadata": {
        "id": "6B7EYQ2GGIsB",
        "outputId": "33f083a0-7960-4793-a80c-ee21d9105085",
        "colab": {
          "base_uri": "https://localhost:8080/"
        }
      },
      "source": [
        "P.insert(0, -1)\n",
        "print(P)"
      ],
      "execution_count": 59,
      "outputs": [
        {
          "output_type": "stream",
          "text": [
            "[-1, 0, 1, 2, 3, 4, 7]\n"
          ],
          "name": "stdout"
        }
      ]
    },
    {
      "cell_type": "markdown",
      "metadata": {
        "id": "hFdr4l4_Ga3f"
      },
      "source": [
        "Índices en objetos iterables"
      ]
    },
    {
      "cell_type": "code",
      "metadata": {
        "id": "UT0P5w8wGebE",
        "outputId": "d36b5336-56ad-4749-f93c-2e2972876ab8",
        "colab": {
          "base_uri": "https://localhost:8080/"
        }
      },
      "source": [
        "print(P[0]) # primer elmento\n",
        "print(P[-1]) # último elemento\n",
        "print(P[-2]) # penúltimo elemento\n",
        "print(P[-3]) # antepenúltimo elemento"
      ],
      "execution_count": 64,
      "outputs": [
        {
          "output_type": "stream",
          "text": [
            "-1\n",
            "7\n",
            "4\n",
            "3\n"
          ],
          "name": "stdout"
        }
      ]
    },
    {
      "cell_type": "code",
      "metadata": {
        "id": "LCUKubA0G0lv",
        "outputId": "c317884b-8690-44dd-aa52-22f79c2b5003",
        "colab": {
          "base_uri": "https://localhost:8080/"
        }
      },
      "source": [
        "print(P[0:3])\n",
        "print(P[-3:-1])"
      ],
      "execution_count": 66,
      "outputs": [
        {
          "output_type": "stream",
          "text": [
            "[-1, 0, 1]\n",
            "[3, 4]\n"
          ],
          "name": "stdout"
        }
      ]
    },
    {
      "cell_type": "markdown",
      "metadata": {
        "id": "r0K9ChcsH-FC"
      },
      "source": [
        "### Diccionarios"
      ]
    },
    {
      "cell_type": "markdown",
      "metadata": {
        "id": "Dmh-w8RTFKhY"
      },
      "source": [
        "Estos son similares a las clases **HashMap<K, V>, TreeMap<K, V> (Symbol tables)** en Java."
      ]
    },
    {
      "cell_type": "code",
      "metadata": {
        "id": "fG_pzAfiFEDa",
        "outputId": "7ba8fc80-27a2-43c6-a063-1d9927d2d0f3",
        "colab": {
          "base_uri": "https://localhost:8080/"
        }
      },
      "source": [
        "d1 = dict() # crea un diccionario vacío\n",
        "print(d1)\n",
        "print(type(d1))"
      ],
      "execution_count": 74,
      "outputs": [
        {
          "output_type": "stream",
          "text": [
            "{}\n",
            "<class 'dict'>\n"
          ],
          "name": "stdout"
        }
      ]
    },
    {
      "cell_type": "markdown",
      "metadata": {
        "id": "CEu6vMZSI02y"
      },
      "source": [
        "diccionario = {&lt;key&gt;: &lt;value&gt;}"
      ]
    },
    {
      "cell_type": "code",
      "metadata": {
        "id": "ecdmg_S-IXld",
        "outputId": "4d0b4e46-b18d-4a83-eb2c-2cee237017a0",
        "colab": {
          "base_uri": "https://localhost:8080/"
        }
      },
      "source": [
        "d1 = {\"materia\": \"Estructuras Discretas\", \"profesor\": \"Alfonso Mancilla\", \"grupo\": 1, \"estudiantes\": [1,35,7,9,85,456,456,123]}\n",
        "print(d1)"
      ],
      "execution_count": 82,
      "outputs": [
        {
          "output_type": "stream",
          "text": [
            "{'materia': 'Estructuras Discretas', 'profesor': 'Alfonso Mancilla', 'grupo': 1, 'estudiantes': [1, 35, 7, 9, 85, 456, 456, 123]}\n"
          ],
          "name": "stdout"
        }
      ]
    },
    {
      "cell_type": "code",
      "metadata": {
        "id": "u0UIkJREIfVd",
        "outputId": "54569d40-8fa1-4de6-903c-3cbf5b06d018",
        "colab": {
          "base_uri": "https://localhost:8080/"
        }
      },
      "source": [
        "print(d1[ \"materia\"])\n",
        "print(d1[ \"profesor\"])\n",
        "print(d1[ \"grupo\"], type(d1['grupo']))"
      ],
      "execution_count": 85,
      "outputs": [
        {
          "output_type": "stream",
          "text": [
            "Estructuras Discretas\n",
            "Alfonso Mancilla\n",
            "1 <class 'int'>\n"
          ],
          "name": "stdout"
        }
      ]
    },
    {
      "cell_type": "code",
      "metadata": {
        "id": "DIo8HPC2JGVi",
        "outputId": "d08b91e3-6e3c-47ea-c4e9-e9e7f582cb62",
        "colab": {
          "base_uri": "https://localhost:8080/"
        }
      },
      "source": [
        "estudiantes = d1[\"estudiantes\"]\n",
        "print(type(estudiantes))"
      ],
      "execution_count": 81,
      "outputs": [
        {
          "output_type": "stream",
          "text": [
            "<class 'list'>\n"
          ],
          "name": "stdout"
        }
      ]
    },
    {
      "cell_type": "markdown",
      "metadata": {
        "id": "f8g3ok9_LfMO"
      },
      "source": [
        "#### Iterar sobre diccionarios"
      ]
    },
    {
      "cell_type": "markdown",
      "metadata": {
        "id": "4eCiUYOOL0LS"
      },
      "source": [
        "Recorrer valores y llaves."
      ]
    },
    {
      "cell_type": "code",
      "metadata": {
        "id": "VQzpbqSJLg4R",
        "outputId": "93e05ddd-1acd-45e6-ddb1-d06b02fab701",
        "colab": {
          "base_uri": "https://localhost:8080/"
        }
      },
      "source": [
        "for key, value in d1.items():\n",
        "  print(key, value)"
      ],
      "execution_count": 103,
      "outputs": [
        {
          "output_type": "stream",
          "text": [
            "materia Estructuras Discretas\n",
            "profesor Alfonso Mancilla\n",
            "grupo 1\n",
            "estudiantes [1, 35, 7, 9, 85, 456, 456, 123]\n"
          ],
          "name": "stdout"
        }
      ]
    },
    {
      "cell_type": "markdown",
      "metadata": {
        "id": "wAJjs_wqLxvk"
      },
      "source": [
        "Recorrer solamente los valores."
      ]
    },
    {
      "cell_type": "code",
      "metadata": {
        "id": "wlwnz10iLuaq",
        "outputId": "a1ede5a6-9bcd-4f9c-ae30-0f63149a56fd",
        "colab": {
          "base_uri": "https://localhost:8080/"
        }
      },
      "source": [
        "for value in d1.values():\n",
        "  print(value)"
      ],
      "execution_count": 104,
      "outputs": [
        {
          "output_type": "stream",
          "text": [
            "Estructuras Discretas\n",
            "Alfonso Mancilla\n",
            "1\n",
            "[1, 35, 7, 9, 85, 456, 456, 123]\n"
          ],
          "name": "stdout"
        }
      ]
    },
    {
      "cell_type": "markdown",
      "metadata": {
        "id": "ghgfoi10L4nT"
      },
      "source": [
        "Recorrer solamente las llaves."
      ]
    },
    {
      "cell_type": "code",
      "metadata": {
        "id": "oYIc5lj5L567",
        "outputId": "0d423292-3162-4439-c629-636ac91c618b",
        "colab": {
          "base_uri": "https://localhost:8080/"
        }
      },
      "source": [
        "for key in d1:\n",
        "  print(key)"
      ],
      "execution_count": 105,
      "outputs": [
        {
          "output_type": "stream",
          "text": [
            "materia\n",
            "profesor\n",
            "grupo\n",
            "estudiantes\n"
          ],
          "name": "stdout"
        }
      ]
    },
    {
      "cell_type": "markdown",
      "metadata": {
        "id": "NMDP3oQSJx5w"
      },
      "source": [
        "### Tuplas"
      ]
    },
    {
      "cell_type": "markdown",
      "metadata": {
        "id": "GLfcv7l6KEhi"
      },
      "source": [
        "Las tuplas son objetos **immutables**. A diferencia de las listas que sí son **mutables**"
      ]
    },
    {
      "cell_type": "code",
      "metadata": {
        "id": "6eS8E88YJzjo",
        "outputId": "c1b31a31-25ac-472e-df09-4d5289a86661",
        "colab": {
          "base_uri": "https://localhost:8080/"
        }
      },
      "source": [
        "T = tuple()\n",
        "print(T)\n",
        "print(type(T))"
      ],
      "execution_count": 88,
      "outputs": [
        {
          "output_type": "stream",
          "text": [
            "()\n",
            "<class 'tuple'>\n"
          ],
          "name": "stdout"
        }
      ]
    },
    {
      "cell_type": "code",
      "metadata": {
        "id": "uQZFLWVBKZNW",
        "outputId": "64774b01-a511-459a-c6d2-aacd4bcaa166",
        "colab": {
          "base_uri": "https://localhost:8080/"
        }
      },
      "source": [
        "T = tuple(P) # crea una tupla con los elementos de P\n",
        "print(T)\n",
        "print(type(T))"
      ],
      "execution_count": 89,
      "outputs": [
        {
          "output_type": "stream",
          "text": [
            "(0, 1, 2, 3, 4, 'S', ['a', 'b'])\n",
            "<class 'tuple'>\n"
          ],
          "name": "stdout"
        }
      ]
    },
    {
      "cell_type": "code",
      "metadata": {
        "id": "5D8qvViAKu2L",
        "outputId": "4f6a0a95-3882-4cc9-e567-7eeb5cf435f2",
        "colab": {
          "base_uri": "https://localhost:8080/"
        }
      },
      "source": [
        "for elemento in T:\n",
        "  print(elemento, end=\", \")"
      ],
      "execution_count": 90,
      "outputs": [
        {
          "output_type": "stream",
          "text": [
            "0, 1, 2, 3, 4, S, ['a', 'b'], "
          ],
          "name": "stdout"
        }
      ]
    },
    {
      "cell_type": "code",
      "metadata": {
        "id": "oQDlfwdUK1aS",
        "outputId": "2f3106ef-5c02-41d0-d982-8fab428e0460",
        "colab": {
          "base_uri": "https://localhost:8080/"
        }
      },
      "source": [
        "d = 10, 11, 12, 14\n",
        "print(type(d))"
      ],
      "execution_count": 96,
      "outputs": [
        {
          "output_type": "stream",
          "text": [
            "<class 'tuple'>\n"
          ],
          "name": "stdout"
        }
      ]
    },
    {
      "cell_type": "markdown",
      "metadata": {
        "id": "p74xo1hdLAvi"
      },
      "source": [
        "Las tuplas se pueden *desempaquetar*.\n",
        "El asterisco significa que el conjunto de valores restantes se van a guardar como una lista en *c*."
      ]
    },
    {
      "cell_type": "code",
      "metadata": {
        "id": "dqBCnmAOLDk3"
      },
      "source": [
        "a, b, *c = d"
      ],
      "execution_count": 98,
      "outputs": []
    },
    {
      "cell_type": "code",
      "metadata": {
        "id": "Q-O_0RPMLHSD",
        "outputId": "279e0123-d25b-4bbc-e0da-a3b4fcd72e8d",
        "colab": {
          "base_uri": "https://localhost:8080/"
        }
      },
      "source": [
        "print(a, b, c)"
      ],
      "execution_count": 99,
      "outputs": [
        {
          "output_type": "stream",
          "text": [
            "10 11 [12, 14]\n"
          ],
          "name": "stdout"
        }
      ]
    },
    {
      "cell_type": "code",
      "metadata": {
        "id": "KbZn2y6gLXvi"
      },
      "source": [
        "a, b, c = 1, 2, 3"
      ],
      "execution_count": 100,
      "outputs": []
    }
  ]
}